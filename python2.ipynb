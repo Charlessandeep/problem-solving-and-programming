{
 "cells": [
  {
   "cell_type": "markdown",
   "metadata": {},
   "source": [
    "## Function to Create a file and write some data"
   ]
  },
  {
   "cell_type": "code",
   "execution_count": 3,
   "metadata": {},
   "outputs": [
    {
     "name": "stdout",
     "output_type": "stream",
     "text": [
      "File is created Successfully and Data is written\n"
     ]
    }
   ],
   "source": [
    "def createFile(filename):\n",
    "    f=open(filename,\"w\")\n",
    "    for i in range(10):\n",
    "        f.write(\"this is the %d Line\\n\" %i)\n",
    "    print(\"File is created Successfully and Data is written\")\n",
    "    f.close()\n",
    "    return\n",
    "createFile(\"file1.txt\")"
   ]
  },
  {
   "cell_type": "markdown",
   "metadata": {},
   "source": [
    "##  Function for reading the file data"
   ]
  },
  {
   "cell_type": "code",
   "execution_count": 12,
   "metadata": {
    "scrolled": true
   },
   "outputs": [
    {
     "name": "stdout",
     "output_type": "stream",
     "text": [
      "this is the 0 Line\n",
      "this is the 1 Line\n",
      "this is the 2 Line\n",
      "this is the 3 Line\n",
      "this is the 4 Line\n",
      "this is the 5 Line\n",
      "this is the 6 Line\n",
      "this is the 7 Line\n",
      "this is the 8 Line\n",
      "this is the 9 Line\n",
      "\n"
     ]
    }
   ],
   "source": [
    "def readFile(filename):\n",
    "    f=open(filename,\"r\")\n",
    "    if f.mode == \"r\":\n",
    "        x=f.read()\n",
    "        print(x)\n",
    "    f.close()\n",
    "    return\n",
    "readFile(\"file1.txt\")\n",
    "        "
   ]
  },
  {
   "cell_type": "markdown",
   "metadata": {},
   "source": [
    "## data to append"
   ]
  },
  {
   "cell_type": "markdown",
   "metadata": {},
   "source": [
    "## Function to append the data to existing file"
   ]
  },
  {
   "cell_type": "code",
   "execution_count": 13,
   "metadata": {},
   "outputs": [],
   "source": [
    "def appendData(filename):\n",
    "    f = open(filename,\"a\")\n",
    "    f.write(\"new line 1\\n\")\n",
    "    f.write(\"new \")\n",
    "     "
   ]
  },
  {
   "cell_type": "markdown",
   "metadata": {},
   "source": [
    "## word count using File I/O python"
   ]
  },
  {
   "cell_type": "code",
   "execution_count": 14,
   "metadata": {},
   "outputs": [
    {
     "name": "stdout",
     "output_type": "stream",
     "text": [
      "0\n"
     ]
    }
   ],
   "source": [
    "def dataAnalysisWordCount(filename,word):\n",
    "    f=open(filename,\"r\")\n",
    "    if f.mode == \"r\":\n",
    "        x=f.read()\n",
    "        lst = x.split()\n",
    "    count = lst.count(word)\n",
    "    return count\n",
    "print(dataAnalysisWordCount(\"file1.txt\",\"rest\"))"
   ]
  },
  {
   "cell_type": "markdown",
   "metadata": {},
   "source": [
    "## Function to count of characters in the file"
   ]
  },
  {
   "cell_type": "code",
   "execution_count": 15,
   "metadata": {},
   "outputs": [
    {
     "name": "stdout",
     "output_type": "stream",
     "text": [
      "190\n"
     ]
    }
   ],
   "source": [
    "def countCharacter(filename):\n",
    "    f = open(filename,\"r\")\n",
    "    if f.mode == \"r\":\n",
    "        x = f.read()\n",
    "        lst = list(x)\n",
    "        return len(lst)\n",
    "print(countCharacter(\"file1.txt\"))    "
   ]
  },
  {
   "cell_type": "markdown",
   "metadata": {},
   "source": [
    "## function to count of line in given file                       "
   ]
  },
  {
   "cell_type": "code",
   "execution_count": 17,
   "metadata": {},
   "outputs": [
    {
     "data": {
      "text/plain": [
       "10"
      ]
     },
     "execution_count": 17,
     "metadata": {},
     "output_type": "execute_result"
    }
   ],
   "source": [
    "def uppercasecount(filename):\n",
    "    countupper=0\n",
    "    f=open(filename,\"r\")\n",
    "    if f.mode==\"r\":\n",
    "        x=f.read()\n",
    "        lst=list(x)\n",
    "    for i in lst:\n",
    "        if i.isupper():\n",
    "            countupper +=1\n",
    "    return countupper\n",
    "uppercasecount(\"file1.txt\")"
   ]
  },
  {
   "cell_type": "markdown",
   "metadata": {},
   "source": [
    "## function to count of line in given file"
   ]
  },
  {
   "cell_type": "code",
   "execution_count": 18,
   "metadata": {},
   "outputs": [
    {
     "data": {
      "text/plain": [
       "11"
      ]
     },
     "execution_count": 18,
     "metadata": {},
     "output_type": "execute_result"
    }
   ],
   "source": [
    "def countlines(filename):\n",
    "    f=open(filename,\"r\")\n",
    "    if f.mode==\"r\":\n",
    "        x=f.read()\n",
    "        lst=x.split(\"\\n\")\n",
    "        return len(lst)\n",
    "countlines(\"file1.txt\")    \n",
    "    "
   ]
  },
  {
   "cell_type": "code",
   "execution_count": 19,
   "metadata": {},
   "outputs": [],
   "source": [
    "## "
   ]
  },
  {
   "cell_type": "code",
   "execution_count": 21,
   "metadata": {},
   "outputs": [
    {
     "name": "stdout",
     "output_type": "stream",
     "text": [
      "True\n",
      "False\n"
     ]
    }
   ],
   "source": [
    "import re\n",
    "def phonenumbervalidate(phone):\n",
    "    pattern = '^[6-9][0-9]{9}$'\n",
    "    phone = str(phone)\n",
    "    if re.match(pattern,phone):\n",
    "        return  True\n",
    "    return False\n",
    "print(phonenumbervalidate(9966017765))\n",
    "print(phonenumbervalidate(996601665))"
   ]
  },
  {
   "cell_type": "code",
   "execution_count": 29,
   "metadata": {},
   "outputs": [
    {
     "name": "stdout",
     "output_type": "stream",
     "text": [
      "True\n",
      "False\n"
     ]
    }
   ],
   "source": [
    "import re\n",
    "def validateEmailID(email):\n",
    "    pattern= \"^[0-9a-z][0-9a-z_.]{4,13}[0-9a-z][@][a-z0-9]{3,18}[.][a-z]{2,4}$\"\n",
    "    if re.match(pattern,email):\n",
    "        return True\n",
    "    return False\n",
    "print(validateEmailID(\"anil.1889@gmail.com\"))\n",
    "print(validateEmailID(\"$anil.1889@gmail.com\"))\n",
    "\n",
    "\n",
    "    "
   ]
  },
  {
   "cell_type": "markdown",
   "metadata": {},
   "source": [
    "## Regular Expression--password\n"
   ]
  },
  {
   "cell_type": "markdown",
   "metadata": {},
   "source": [
    "## parameters : [6-15]\n"
   ]
  },
  {
   "cell_type": "markdown",
   "metadata": {},
   "source": [
    "## accept lower case,upper case,apl symbol(@,$,#,!)"
   ]
  },
  {
   "cell_type": "code",
   "execution_count": 34,
   "metadata": {},
   "outputs": [
    {
     "name": "stdout",
     "output_type": "stream",
     "text": [
      "True\n",
      "True\n"
     ]
    }
   ],
   "source": [
    "import re\n",
    "def validatePassword(s):\n",
    "    pattern = \"^[a-zA-Z0-9!@#$]{6,15}$\"\n",
    "    if re.match(pattern,s):\n",
    "        return True\n",
    "    return False\n",
    "print(validatePassword(\"Anil1889@21#M\"))\n",
    "print(validatePassword(\"Anil1889@21#M\"))"
   ]
  },
  {
   "cell_type": "markdown",
   "metadata": {},
   "source": [
    "## variables-- data(memory)"
   ]
  },
  {
   "cell_type": "code",
   "execution_count": 1,
   "metadata": {},
   "outputs": [],
   "source": [
    "def test():\n",
    "    return\n",
    "test()\n",
    "    \n",
    "    "
   ]
  },
  {
   "cell_type": "code",
   "execution_count": 6,
   "metadata": {},
   "outputs": [
    {
     "name": "stdout",
     "output_type": "stream",
     "text": [
      "test() for the class and method\n"
     ]
    }
   ],
   "source": [
    "class Demo:\n",
    "    def Test(self):\n",
    "        print(\"test() for the class jm and method\")\n",
    "        return\n",
    "\n",
    "obj = Demo()\n",
    "obj.Test()"
   ]
  },
  {
   "cell_type": "code",
   "execution_count": 10,
   "metadata": {},
   "outputs": [
    {
     "name": "stdout",
     "output_type": "stream",
     "text": [
      "120\n"
     ]
    }
   ],
   "source": [
    "class Demo1:\n",
    "    def fact(self,n):\n",
    "        #return the factorial\n",
    "        fact=1\n",
    "        while(n!=0):\n",
    "            fact=fact*n\n",
    "            n=n-1\n",
    "        return fact\n",
    "p1=Demo1()\n",
    "print(p1.fact(5))#120\n"
   ]
  },
  {
   "cell_type": "code",
   "execution_count": null,
   "metadata": {},
   "outputs": [],
   "source": []
  }
 ],
 "metadata": {
  "kernelspec": {
   "display_name": "Python 3",
   "language": "python",
   "name": "python3"
  },
  "language_info": {
   "codemirror_mode": {
    "name": "ipython",
    "version": 3
   },
   "file_extension": ".py",
   "mimetype": "text/x-python",
   "name": "python",
   "nbconvert_exporter": "python",
   "pygments_lexer": "ipython3",
   "version": "3.7.3"
  }
 },
 "nbformat": 4,
 "nbformat_minor": 2
}
