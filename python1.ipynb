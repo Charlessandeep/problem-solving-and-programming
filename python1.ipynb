{
 "cells": [
  {
   "cell_type": "code",
   "execution_count": 5,
   "metadata": {},
   "outputs": [
    {
     "name": "stdout",
     "output_type": "stream",
     "text": [
      "90\n"
     ]
    }
   ],
   "source": [
    "def printEven(n):\n",
    "    count=0;\n",
    "    sum=0;\n",
    "    while(count!=n):\n",
    "        if(count%2==0):\n",
    "            sum=sum+count;\n",
    "        count=count+1;\n",
    "    return sum;\n",
    "print(printEven(20))"
   ]
  },
  {
   "cell_type": "code",
   "execution_count": 6,
   "metadata": {},
   "outputs": [
    {
     "name": "stdout",
     "output_type": "stream",
     "text": [
      "1 2 3 4 6 "
     ]
    }
   ],
   "source": [
    "def factorList(n):\n",
    "    i=1;\n",
    "    while(i!=n):\n",
    "        if(n%i==0):\n",
    "            print(i,end=\" \");\n",
    "        i=i+1;\n",
    "    return;\n",
    "        \n",
    "factorList(12);"
   ]
  },
  {
   "cell_type": "code",
   "execution_count": 8,
   "metadata": {},
   "outputs": [
    {
     "name": "stdout",
     "output_type": "stream",
     "text": [
      "[1, 2, 3, 4, 5]\n",
      "1\n"
     ]
    }
   ],
   "source": [
    "list1 = [1,2,3,4,5];\n",
    "#Entire list \n",
    "print(list1);\n",
    "#list[0]\n",
    "print(list1[0])"
   ]
  },
  {
   "cell_type": "code",
   "execution_count": 11,
   "metadata": {},
   "outputs": [
    {
     "name": "stdout",
     "output_type": "stream",
     "text": [
      "fuck you bitch "
     ]
    }
   ],
   "source": [
    "list2=[\"fuck\",\"you\",\"bitch\"];\n",
    "for x in list2:\n",
    "    print(x,end=\" \");"
   ]
  },
  {
   "cell_type": "code",
   "execution_count": 15,
   "metadata": {},
   "outputs": [
    {
     "name": "stdout",
     "output_type": "stream",
     "text": [
      "1 2 3 4 5 6 7 \n",
      "5\n",
      "[4, 5, 6, 7]\n",
      "[1, 2, 3]\n",
      "[1, 2, 3, 4]\n"
     ]
    }
   ],
   "source": [
    "# List example with particular index\n",
    "lst1 = [1,2,3,4,5,6,7]\n",
    "for x in lst1:\n",
    "    print(x,end=\" \")\n",
    "    \n",
    "print();\n",
    "print(lst1[4]);\n",
    "print(lst1[3:7]);\n",
    "print(lst1[0:3]);\n",
    "print(lst1[:4])"
   ]
  },
  {
   "cell_type": "code",
   "execution_count": 28,
   "metadata": {},
   "outputs": [
    {
     "name": "stdout",
     "output_type": "stream",
     "text": [
      "1 2 3 4 5 6 7 \n",
      "5\n",
      "[2, 3, 4, 5]\n",
      "[1, 3, 5, 7]\n",
      "[1, 4, 7]\n",
      "7\n",
      "6\n"
     ]
    }
   ],
   "source": [
    "# List example with particular index\n",
    "lst1 = [1,2,3,4,5,6,7]\n",
    "for x in lst1:\n",
    "    print(x,end=\" \")\n",
    "    \n",
    "print();\n",
    "print(lst1[4]);\n",
    "print(lst1[1:-2]);\n",
    "print(lst1[::2]);\n",
    "print(lst1[::3]);\n",
    "print(lst1[-1]);\n",
    "print(lst1[-2]);"
   ]
  },
  {
   "cell_type": "code",
   "execution_count": 45,
   "metadata": {},
   "outputs": [
    {
     "name": "stdout",
     "output_type": "stream",
     "text": [
      "['anil', 'aadarsh', '1']\n",
      "['anil', 'aadarsh', 15]\n",
      "['anil', 'aadarsh']\n",
      "['anil', 'gitam']\n",
      "[1, 2, 3]\n",
      "['anil', 'gitam', 1, 2, 3]\n",
      "2\n",
      "['anil', 'gitam', 15]\n",
      "0\n",
      "['anil', 'gitam', 15, 2020]\n",
      "['gitam', 15, 2020]\n",
      "[2020, 15, 'gitam']\n"
     ]
    }
   ],
   "source": [
    "lst1=[\"anil\",\"aadarsh\",\"1\"];\n",
    "print(lst1);\n",
    "\n",
    "lst1[2]=15;#update the list\n",
    "print(lst1);\n",
    "\n",
    "del lst1[2];#delete the elemt in the list\n",
    "print(lst1);\n",
    "\n",
    "lst1[1]=\"gitam\";\n",
    "print(lst1);\n",
    "\n",
    "lst2=[1,2,3];\n",
    "print(lst2);\n",
    "print(lst1+lst2)#concatination of lists\n",
    "print(len(lst1))#length of the list\n",
    "lst1.append(15);#adding number at the end of the list\n",
    "print(lst1)\n",
    "# print(lst1.count(1.))\n",
    "print(lst1.count(3))\n",
    "lst1.insert(4,2020)\n",
    "print(lst1)\n",
    "lst1.remove(\"anil\")\n",
    "print(lst1)\n",
    "lst1.reverse()\n",
    "print(lst1)"
   ]
  },
  {
   "cell_type": "code",
   "execution_count": 75,
   "metadata": {},
   "outputs": [
    {
     "ename": "SyntaxError",
     "evalue": "invalid syntax (<ipython-input-75-792921e03073>, line 4)",
     "output_type": "error",
     "traceback": [
      "\u001b[1;36m  File \u001b[1;32m\"<ipython-input-75-792921e03073>\"\u001b[1;36m, line \u001b[1;32m4\u001b[0m\n\u001b[1;33m    if a[i]=TarItem:\u001b[0m\n\u001b[1;37m           ^\u001b[0m\n\u001b[1;31mSyntaxError\u001b[0m\u001b[1;31m:\u001b[0m invalid syntax\n"
     ]
    }
   ],
   "source": [
    "def linerSearchDuplicate(a,TarItem):\n",
    "     flag=0\n",
    "for i in range(length(a)):\n",
    "    if a[i]=TarItem:\n",
    "          flag=flag+1\n",
    "print(flag)\n",
    "\n",
    "a=[9,1,6,1,5,9,15,16]\n",
    "LinearSearchDuplicate(a,9)"
   ]
  },
  {
   "cell_type": "code",
   "execution_count": 85,
   "metadata": {},
   "outputs": [
    {
     "name": "stdout",
     "output_type": "stream",
     "text": [
      "! !  ! ! ! ! !  ! ! ! ! ! ! ! !  "
     ]
    }
   ],
   "source": [
    "def linearExample2(a,TarItem):\n",
    "    for i in range(len(a)):\n",
    "        if a[i] == TarItem:\n",
    "            j=0 \n",
    "            while j!=i+1: \n",
    "                print(\"!\",end = \" \")\n",
    "                j=j+1\n",
    "            print(end=\" \")\n",
    "            \n",
    "            \n",
    "            \n",
    "            \n",
    " \n",
    "a=[1,5,9,6,5,15,12,5]\n",
    "linearExample2(a,5)\n",
    "\n",
    "\n"
   ]
  },
  {
   "cell_type": "code",
   "execution_count": 89,
   "metadata": {},
   "outputs": [
    {
     "name": "stdout",
     "output_type": "stream",
     "text": [
      "60\n"
     ]
    }
   ],
   "source": [
    "def LinearExample3(a):\n",
    "    sum=0;\n",
    "    for i in range(len(a)):\n",
    "        if a[i]%3==0 and a[i]%5==0:\n",
    "            sum=sum+a[i]\n",
    "            \n",
    "    return sum \n",
    "\n",
    "a = [15,12,2,9,18,36,45]\n",
    "print(LinearExample3(a))"
   ]
  },
  {
   "cell_type": "code",
   "execution_count": null,
   "metadata": {},
   "outputs": [],
   "source": []
  }
 ],
 "metadata": {
  "kernelspec": {
   "display_name": "Python 3",
   "language": "python",
   "name": "python3"
  },
  "language_info": {
   "codemirror_mode": {
    "name": "ipython",
    "version": 3
   },
   "file_extension": ".py",
   "mimetype": "text/x-python",
   "name": "python",
   "nbconvert_exporter": "python",
   "pygments_lexer": "ipython3",
   "version": "3.7.3"
  }
 },
 "nbformat": 4,
 "nbformat_minor": 2
}
